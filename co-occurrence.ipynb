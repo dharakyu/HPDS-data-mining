{
 "cells": [
  {
   "cell_type": "code",
   "execution_count": 6,
   "metadata": {},
   "outputs": [],
   "source": [
    "import numpy as np\n",
    "import pandas as pd\n",
    "import matplotlib.pyplot as plt\n",
    "from collections import Counter"
   ]
  },
  {
   "cell_type": "code",
   "execution_count": 2,
   "metadata": {},
   "outputs": [],
   "source": [
    "all_reviews = pd.read_pickle(\"filtered_Yelp_reviews.pkl\")\n",
    "build_features = pd.read_csv(\"build_features.csv\")\n",
    "\n",
    "# convert to lowercase\n",
    "all_reviews[\"text\"] = all_reviews[\"text\"].str.lower()\n",
    "    \n",
    "# add spaces and remove \"*\"\n",
    "for feature in build_features:\n",
    "    for i in range(len(build_features[feature].dropna())):\n",
    "        build_features[feature][i] = \" \" + build_features[feature][i]\n",
    "        if \"*\" in build_features[feature][i]:\n",
    "            build_features[feature][i] = build_features[feature][i].replace(\"*\", \"\")\n",
    "        else:\n",
    "            build_features[feature][i] = build_features[feature][i] + \" \""
   ]
  },
  {
   "cell_type": "code",
   "execution_count": 61,
   "metadata": {},
   "outputs": [],
   "source": [
    "# create dict of BF words to number of occurrences\n",
    "n_occ = {}\n",
    "for feature in build_features:\n",
    "    for term in build_features[feature].dropna():\n",
    "        n_occ[term] = all_reviews.text.str.contains(term).sum()"
   ]
  },
  {
   "cell_type": "code",
   "execution_count": 82,
   "metadata": {},
   "outputs": [
    {
     "name": "stdout",
     "output_type": "stream",
     "text": [
      " quiet 645\n",
      " cool 595\n",
      " feel  515\n",
      " comf 512\n",
      " clean  412\n",
      " musi 407\n",
      " hot  399\n",
      " light 396\n",
      " old  375\n",
      " smooth 366\n",
      " cold 272\n",
      " hard  267\n",
      " vibe 262\n",
      " smell 261\n",
      " grab 257\n",
      " warm 252\n",
      " loud 246\n",
      " cold  230\n",
      " fun  226\n",
      " green 202\n",
      " felt  192\n",
      " cozy  188\n",
      " modern  186\n",
      " decor  166\n",
      " sound 153\n",
      " ambian 150\n",
      " bright 140\n",
      " soft 140\n",
      " glass  138\n",
      " temp 134\n"
     ]
    }
   ],
   "source": [
    "c = Counter(n_occ).most_common(30)\n",
    "for item in c:\n",
    "    print(item[0], item[1])"
   ]
  },
  {
   "cell_type": "code",
   "execution_count": 79,
   "metadata": {},
   "outputs": [
    {
     "data": {
      "text/plain": [
       "645.0"
      ]
     },
     "metadata": {},
     "output_type": "display_data"
    }
   ],
   "source": [
    "key_words = []\n",
    "for item in c:\n",
    "    key_words.append(item[0])\n",
    "\n",
    "is_present = np.zeros((len(key_words), len(all_reviews)))\n",
    "for term_idx in range(len(key_words)):\n",
    "    for review_idx in range(len(all_reviews)):\n",
    "        if key_words[term_idx] in all_reviews.text[review_idx]:\n",
    "            is_present[term_idx, review_idx] = 1\n",
    "            \n",
    "# multiple occurrence matrix by its transpose to get co-occurrences\n",
    "co_occ = np.dot(is_present, is_present.T)"
   ]
  },
  {
   "cell_type": "code",
   "execution_count": 81,
   "metadata": {},
   "outputs": [
    {
     "data": {
      "image/png": "[encoded data removed]",
      "text/plain": [
       "<Figure size 432x288 with 2 Axes>"
      ]
     },
     "metadata": {
      "needs_background": "light"
     },
     "output_type": "display_data"
    }
   ],
   "source": [
    "fig, ax = plt.subplots()\n",
    "#im = ax.imshow(co_occ)\n",
    "\n",
    "# We want to show all ticks...\n",
    "ax.set_xticks(np.arange(len(key_words)))\n",
    "ax.set_yticks(np.arange(len(key_words)))\n",
    "\n",
    "# ... and label them with the respective list entries\n",
    "ax.set_xticklabels(key_words)\n",
    "ax.set_yticklabels(key_words)\n",
    "\n",
    "# Rotate the tick labels and set their alignment.\n",
    "plt.setp(ax.get_xticklabels(), rotation=90, ha=\"right\",\n",
    "         rotation_mode=\"anchor\")\n",
    "\n",
    "plt.imshow(co_occ)\n",
    "plt.colorbar()\n",
    "plt.show()"
   ]
  },
  {
   "cell_type": "code",
   "execution_count": null,
   "metadata": {},
   "outputs": [],
   "source": []
  }
 ],
 "metadata": {
  "kernelspec": {
   "display_name": "Python (py3)",
   "language": "python",
   "name": "py3"
  },
  "language_info": {
   "codemirror_mode": {
    "name": "ipython",
    "version": 3
   },
   "file_extension": ".py",
   "mimetype": "text/x-python",
   "name": "python",
   "nbconvert_exporter": "python",
   "pygments_lexer": "ipython3",
   "version": "3.7.3"
  }
 },
 "nbformat": 4,
 "nbformat_minor": 2
}

{
 "cells": [
  {
   "cell_type": "code",
   "execution_count": null,
   "metadata": {},
   "outputs": [],
   "source": [
    "'''\n",
    "This script is used to add tags to reviews that contain words\n",
    "from provided categorized dictionary. It generates a file containing\n",
    "a table with additional boolean columns for each tag.\n",
    "The file also includes a few queries to get useful statistics from the\n",
    "generated tags.\n",
    "'''"
   ]
  },
  {
   "cell_type": "code",
   "execution_count": 1,
   "metadata": {},
   "outputs": [],
   "source": [
    "import numpy as np\n",
    "import pandas as pd\n",
    "import matplotlib.pyplot as plt"
   ]
  },
  {
   "cell_type": "code",
   "execution_count": 135,
   "metadata": {},
   "outputs": [],
   "source": [
    "# load filtered reviews and the build_features dictionary we built\n",
    "all_reviews = pd.read_pickle(\"filtered_Yelp_reviews.pkl\")\n",
    "build_features = pd.read_csv(\"build_features.csv\")\n",
    "\n",
    "# convert to lowercase\n",
    "all_reviews[\"text\"] = all_reviews[\"text\"].str.lower()\n",
    "    \n",
    "# add spaces and remove \"*\"\n",
    "# this step works in place of Regular Expressions\n",
    "for feature in build_features:\n",
    "    for i in range(len(build_features[feature].dropna())):\n",
    "        build_features[feature][i] = \" \" + build_features[feature][i]\n",
    "        if \"*\" in build_features[feature][i]:\n",
    "            build_features[feature][i] = build_features[feature][i].replace(\"*\", \"\")\n",
    "        else:\n",
    "            build_features[feature][i] = build_features[feature][i] + \" \""
   ]
  },
  {
   "cell_type": "code",
   "execution_count": 170,
   "metadata": {},
   "outputs": [],
   "source": [
    "# create a new dataframe for tagged reviews and their tags as columns\n",
    "cols = [\"business_name\", \"text\", \"stars\", \"categories\"] + build_features.columns.tolist()\n",
    "rel_reviews = pd.DataFrame(columns=cols)\n",
    "\n",
    "for row in all_reviews.iterrows():\n",
    "    cat = []\n",
    "    for feature in build_features:\n",
    "        if any(word in row[1].text for word in build_features[feature].dropna()):\n",
    "            cat.append(True)\n",
    "        else:\n",
    "            cat.append(False)\n",
    "    # a dataframe of the information of the review        \n",
    "    info_df = pd.DataFrame([[row[1].loc[\"name\"], row[1].text, row[1].stars_y, row[1].categories]], columns=[\"business_name\", \"text\", \"stars\", \"categories\"])\n",
    "    # a dataframe of the tags of the review (True/False according to 'cat')\n",
    "    cat_df = pd.DataFrame([cat], columns=build_features.columns.tolist())\n",
    "    # a dataframe concatenating them to be added to the list as a row\n",
    "    curr_row = pd.concat([info_df, cat_df], axis=1)\n",
    "    rel_reviews = rel_reviews.append(curr_row)\n",
    "    \n",
    "rel_reviews = rel_reviews.reset_index()\n",
    "rel_reviews = rel_reviews.drop(\"index\", axis = 1)\n",
    "rel_reviews.to_pickle(\"./feature_extracted_reviews.pkl\")\n",
    "rel_reviews.to_csv(\"./feature_extracted_reviews.csv\")"
   ]
  },
  {
   "cell_type": "code",
   "execution_count": null,
   "metadata": {
    "scrolled": false
   },
   "outputs": [],
   "source": [
    "display(rel_reviews)"
   ]
  },
  {
   "cell_type": "code",
   "execution_count": 156,
   "metadata": {
    "scrolled": false
   },
   "outputs": [
    {
     "name": "stdout",
     "output_type": "stream",
     "text": [
      "light\n",
      "False    7981\n",
      "True      838\n",
      "Name: light, dtype: int64\n",
      "materials\n",
      "False    5079\n",
      "True     3740\n",
      "Name: materials, dtype: int64\n",
      "icons\n",
      "False    8566\n",
      "True      253\n",
      "Name: icons, dtype: int64\n",
      "temp\n",
      "False    7643\n",
      "True     1176\n",
      "Name: temp, dtype: int64\n",
      "ambiance\n",
      "False    6990\n",
      "True     1829\n",
      "Name: ambiance, dtype: int64\n",
      "noise\n",
      "False    7091\n",
      "True     1728\n",
      "Name: noise, dtype: int64\n"
     ]
    }
   ],
   "source": [
    "# print the counts of each category\n",
    "for feature in build_features.columns:\n",
    "    print feature\n",
    "    print rel_reviews[feature].value_counts()"
   ]
  },
  {
   "cell_type": "code",
   "execution_count": null,
   "metadata": {
    "scrolled": false
   },
   "outputs": [],
   "source": [
    "# print all reviews of the selected category \n",
    "for line in rel_reviews.text[rel_reviews.icons == True]:\n",
    "    print line\n",
    "    print \"--------\""
   ]
  },
  {
   "cell_type": "code",
   "execution_count": null,
   "metadata": {},
   "outputs": [],
   "source": [
    "# print all reviews with their metadata of the selected category\n",
    "rel_reviews[rel_reviews.icons == True]"
   ]
  },
  {
   "cell_type": "code",
   "execution_count": 200,
   "metadata": {},
   "outputs": [
    {
     "name": "stdout",
     "output_type": "stream",
     "text": [
      " smell\n"
     ]
    }
   ],
   "source": [
    "# print which of the keywords in the dictionary appeared in a selected review\n",
    "rel_reviews.loc[46][1]\n",
    "\n",
    "for keyword in build_features.temp.dropna():\n",
    "    if keyword in rel_reviews.loc[46][1]:\n",
    "        print keyword"
   ]
  },
  {
   "cell_type": "code",
   "execution_count": null,
   "metadata": {
    "scrolled": false
   },
   "outputs": [],
   "source": [
    "# print all reviews that include a term from the stress dictionary\n",
    "stress_terms = pd.read_csv(\"./stress.csv\")\n",
    "stress = []\n",
    "for line in all_reviews.text:\n",
    "    if any(term in line for term in stress_terms):\n",
    "        stress.append(True)\n",
    "    else:\n",
    "        stress.append(False)\n",
    "            \n",
    "stress_df = pd.DataFrame(stress)\n",
    "\n",
    "for line in all_reviews.text[stress_df[0] == True]:\n",
    "    print line\n",
    "    print \"--------\""
   ]
  },
  {
   "cell_type": "code",
   "execution_count": 186,
   "metadata": {},
   "outputs": [
    {
     "data": {
      "text/plain": [
       "False    8812\n",
       "True        7\n",
       "dtype: int64"
      ]
     },
     "execution_count": 186,
     "metadata": {},
     "output_type": "execute_result"
    }
   ],
   "source": [
    "# number of co-occurances of the stress category and light categoy \n",
    "((stress_df[0] == True) & (rel_reviews.light == True)).value_counts()"
   ]
  },
  {
   "cell_type": "code",
   "execution_count": 187,
   "metadata": {},
   "outputs": [
    {
     "data": {
      "text/plain": [
       "False    8545\n",
       "True      274\n",
       "Name: text, dtype: int64"
      ]
     },
     "execution_count": 187,
     "metadata": {},
     "output_type": "execute_result"
    }
   ],
   "source": [
    "# number of reviews that include the regex '* communit*'\n",
    "(rel_reviews.text.str.contains(\" communit\")).value_counts()"
   ]
  },
  {
   "cell_type": "code",
   "execution_count": 188,
   "metadata": {},
   "outputs": [
    {
     "data": {
      "text/plain": [
       "False    8730\n",
       "True       89\n",
       "Name: text, dtype: int64"
      ]
     },
     "execution_count": 188,
     "metadata": {},
     "output_type": "execute_result"
    }
   ],
   "source": [
    "# number of reviews that include the regex '* creativ*'\n",
    "(rel_reviews.text.str.contains(\" creativ\")).value_counts()"
   ]
  },
  {
   "cell_type": "code",
   "execution_count": 201,
   "metadata": {},
   "outputs": [
    {
     "data": {
      "text/plain": [
       "False    8054\n",
       "True      765\n",
       "Name: text, dtype: int64"
      ]
     },
     "execution_count": 201,
     "metadata": {},
     "output_type": "execute_result"
    }
   ],
   "source": [
    "# number of reviews that include the regex '* clean*'\n",
    "(rel_reviews.text.str.contains(\" clean\")).value_counts()"
   ]
  },
  {
   "cell_type": "code",
   "execution_count": 202,
   "metadata": {},
   "outputs": [
    {
     "data": {
      "text/plain": [
       "False    8693\n",
       "True      126\n",
       "Name: text, dtype: int64"
      ]
     },
     "execution_count": 202,
     "metadata": {},
     "output_type": "execute_result"
    }
   ],
   "source": [
    "# number of reviews that include the regex '* dirty*'\n",
    "(rel_reviews.text.str.contains(\" dirty\")).value_counts()"
   ]
  },
  {
   "cell_type": "code",
   "execution_count": 203,
   "metadata": {},
   "outputs": [
    {
     "data": {
      "text/plain": [
       "False    8769\n",
       "True       50\n",
       "Name: text, dtype: int64"
      ]
     },
     "execution_count": 203,
     "metadata": {},
     "output_type": "execute_result"
    }
   ],
   "source": [
    "# number of reviews that include the regex '* gross*'\n",
    "(rel_reviews.text.str.contains(\" gross\")).value_counts()"
   ]
  },
  {
   "cell_type": "code",
   "execution_count": 215,
   "metadata": {},
   "outputs": [
    {
     "data": {
      "text/plain": [
       "False    7828\n",
       "True      991\n",
       "dtype: int64"
      ]
     },
     "metadata": {},
     "output_type": "display_data"
    },
    {
     "data": {
      "text/plain": [
       "False    8082\n",
       "True      737\n",
       "dtype: int64"
      ]
     },
     "metadata": {},
     "output_type": "display_data"
    }
   ],
   "source": [
    "# compare the frequency of the 'noise' category in Libraries vs other spaces\n",
    "display((rel_reviews.categories.str.contains(\"Libraries\") & rel_reviews.noise==True).value_counts())\n",
    "display((~rel_reviews.categories.str.contains(\"Libraries\") & rel_reviews.noise==True).value_counts())"
   ]
  },
  {
   "cell_type": "code",
   "execution_count": 205,
   "metadata": {},
   "outputs": [
    {
     "data": {
      "text/plain": [
       "False    5838\n",
       "True     2981\n",
       "Name: categories, dtype: int64"
      ]
     },
     "execution_count": 205,
     "metadata": {},
     "output_type": "execute_result"
    }
   ],
   "source": [
    "# number of reviews of libraries\n",
    "(rel_reviews.categories.str.contains(\"Libraries\")).value_counts()"
   ]
  },
  {
   "cell_type": "code",
   "execution_count": 216,
   "metadata": {},
   "outputs": [
    {
     "data": {
      "text/plain": [
       "0.33243877893324386"
      ]
     },
     "metadata": {},
     "output_type": "display_data"
    },
    {
     "data": {
      "text/plain": [
       "0.1262418636519356"
      ]
     },
     "metadata": {},
     "output_type": "display_data"
    }
   ],
   "source": [
    "# relivance of 'noise' in Libraries vs other spaces, normalized\n",
    "display(991.0/2981)\n",
    "display(737.0/5838)"
   ]
  },
  {
   "cell_type": "code",
   "execution_count": 218,
   "metadata": {},
   "outputs": [
    {
     "data": {
      "text/plain": [
       "Public Services & Government;Libraries                                                                                                                                                                                                    154\n",
       "Libraries;Public Services & Government                                                                                                                                                                                                    135\n",
       "Food;Internet Cafes;Comfort Food;Bakeries;Restaurants;Coffee & Tea;Juice Bars & Smoothies;Local Flavor;Cafes;Desserts;Breakfast & Brunch                                                                                                   45\n",
       "Internet Cafes;Coffee & Tea;Shaved Ice;Burgers;Sandwiches;Breakfast & Brunch;Restaurants;Food;Juice Bars & Smoothies;Ice Cream & Frozen Yogurt                                                                                             27\n",
       "Coffee & Tea;Bakeries;Sandwiches;Internet Cafes;Food;Breakfast & Brunch;Restaurants                                                                                                                                                        17\n",
       "Food;Mediterranean;African;Middle Eastern;Specialty Food;Event Planning & Services;Internet Cafes;Halal;Restaurants;Caterers                                                                                                               15\n",
       "Event Planning & Services;Shared Office Spaces;Venues & Event Spaces;Real Estate;Business Consulting;Professional Services;Home Services                                                                                                   15\n",
       "Sandwiches;Internet Cafes;Bagels;Breakfast & Brunch;Coffee & Tea;Food;Restaurants;Juice Bars & Smoothies;Cafes                                                                                                                             14\n",
       "Breakfast & Brunch;Food;Cafes;Juice Bars & Smoothies;Sandwiches;Coffee & Tea;Restaurants;Desserts;Internet Cafes                                                                                                                           13\n",
       "Coffee & Tea;Internet Cafes;Food                                                                                                                                                                                                           12\n",
       "Pizza;Public Services & Government;Libraries;Restaurants                                                                                                                                                                                   12\n",
       "Internet Cafes;Cafes;Breakfast & Brunch;Restaurants;Coffee & Tea;Sandwiches;Food                                                                                                                                                           11\n",
       "Libraries;Education;Public Services & Government;Colleges & Universities                                                                                                                                                                   11\n",
       "Chocolatiers & Shops;Internet Cafes;Coffee & Tea;Specialty Food;Coffee Roasteries;Bakeries;Restaurants;Cafes;Food                                                                                                                          10\n",
       "Food;Restaurants;Sandwiches;Internet Cafes;Coffee & Tea                                                                                                                                                                                     9\n",
       "Breakfast & Brunch;Restaurants;Vegan;Internet Cafes;Food;Health Markets;Vegetarian;Farmers Market;Specialty Food                                                                                                                            9\n",
       "Food;Coffee & Tea;Internet Cafes;Bakeries                                                                                                                                                                                                   9\n",
       "Educational Services;Public Services & Government;Libraries;Education                                                                                                                                                                       9\n",
       "Coffee Roasteries;Food;Internet Cafes;Coffee & Tea                                                                                                                                                                                          9\n",
       "Breakfast & Brunch;Internet Cafes;Bagels;Vegan;Desserts;Food;Coffee & Tea;Restaurants                                                                                                                                                       8\n",
       "Public Services & Government;Pets;Local Flavor;Recreation Centers;Parks;Libraries;Active Life                                                                                                                                               8\n",
       "American (Traditional);American (New);Coffee & Tea;Restaurants;Gelato;Food;Breakfast & Brunch;Fast Food;Burgers;Internet Cafes;Cafes                                                                                                        6\n",
       "Food Trucks;American (New);American (Traditional);Pubs;Internet Cafes;Restaurants;Cafes;Nightlife;Hot Dogs;Bars;Food;Breakfast & Brunch                                                                                                     6\n",
       "Cafes;Food;Restaurants;Breakfast & Brunch;Coffee & Tea;Juice Bars & Smoothies;Internet Cafes                                                                                                                                                6\n",
       "Libraries;Kids Activities;Active Life;Books;Mags;Music & Video;Museums;Arts & Entertainment;Educational Services;Shopping;Public Services & Government;Education;Bookstores                                                                 5\n",
       "Coffee & Tea;Home Services;Food;Shared Office Spaces;Real Estate                                                                                                                                                                            5\n",
       "Libraries;Performing Arts;Public Services & Government;Arts & Entertainment                                                                                                                                                                 5\n",
       "Nightlife;Coffee & Tea;Turkish;Internet Cafes;Restaurants;Food;Bars                                                                                                                                                                         5\n",
       "Coffee & Tea;Internet Cafes;Coffee Roasteries;Food;Breakfast & Brunch;Restaurants;Bakeries                                                                                                                                                  5\n",
       "Internet Cafes;Active Life;Martial Arts;Fitness & Instruction;Playgrounds;Food                                                                                                                                                              5\n",
       "                                                                                                                                                                                                                                         ... \n",
       "Arcades;Food;Arts & Entertainment;Internet Cafes;LAN Centers                                                                                                                                                                                1\n",
       "Desserts;Internet Cafes;Food;Coffee & Tea;Tea Rooms                                                                                                                                                                                         1\n",
       "Music Venues;Performing Arts;Cinema;Internet Cafes;Nightlife;Books;Mags;Music & Video;Shopping;Dance Clubs;Newspapers & Magazines;Event Planning & Services;Arts & Entertainment;Venues & Event Spaces;Bars;Food;Lounges;Cocktail Bars      1\n",
       "Internet Cafes;Food;Coffee & Tea;Restaurants;Breakfast & Brunch                                                                                                                                                                             1\n",
       "Nightlife;Restaurants;Coffee & Tea;Shaved Ice;Bars;Internet Cafes;Cafes;Pubs;Music Venues;Arts & Entertainment;Food                                                                                                                         1\n",
       "Commercial Real Estate;Shared Office Spaces;Home Services;Real Estate                                                                                                                                                                       1\n",
       "Coffeeshops;Restaurants;Internet Cafes;Food;Nightlife;Coffee & Tea;Cafes                                                                                                                                                                    1\n",
       "Restaurants;Food;Bars;American (Traditional);Internet Cafes;Nightlife;Sports Bars                                                                                                                                                           1\n",
       "Food;Bars;Tabletop Games;Nightlife;Cafes;Shopping;Restaurants;Internet Cafes;Cocktail Bars                                                                                                                                                  1\n",
       "Real Estate;Event Planning & Services;Venues & Event Spaces;Home Services;Shared Office Spaces;Professional Services                                                                                                                        1\n",
       "Food;Venues & Event Spaces;Coffee & Tea;Home Services;Shared Office Spaces;Cafes;Event Planning & Services;Real Estate;Restaurants                                                                                                          1\n",
       "Internet Cafes;Food;Computers;Shopping;Arts & Entertainment;Arcades                                                                                                                                                                         1\n",
       "Shared Office Spaces;Home Services;Real Estate                                                                                                                                                                                              1\n",
       "Donuts;Coffee & Tea;Internet Cafes;Food                                                                                                                                                                                                     1\n",
       "Public Services & Government;Libraries;Colleges & Universities;Education                                                                                                                                                                    1\n",
       "Internet Cafes;Food;Bubble Tea;Restaurants;Taiwanese                                                                                                                                                                                        1\n",
       "Internet Cafes;Food;Arts & Entertainment;Venues & Event Spaces;Event Planning & Services;Arcades                                                                                                                                            1\n",
       "Libraries;Public Services & Government;Education                                                                                                                                                                                            1\n",
       "Local Services;Libraries;Restaurants;Pizza;Public Services & Government                                                                                                                                                                     1\n",
       "Real Estate;Commercial Real Estate;Home Services;Shared Office Spaces                                                                                                                                                                       1\n",
       "Food;Internet Cafes                                                                                                                                                                                                                         1\n",
       "Public Services & Government;Recreation Centers;Libraries;Skating Rinks;Active Life;Community Centers;Swimming Pools                                                                                                                        1\n",
       "Coffee & Tea;Food;Child Care & Day Care;Real Estate;Fitness & Instruction;Arts & Entertainment;Business Consulting;Yoga;Festivals;Professional Services;Active Life;Local Services;Shared Office Spaces;Home Services                       1\n",
       "Event Planning & Services;Arcades;Videos & Video Game Rental;Internet Cafes;Video Game Stores;Arts & Entertainment;Party & Event Planning;Books;Mags;Music & Video;Food;Shopping                                                            1\n",
       "Ice Cream & Frozen Yogurt;Desserts;Coffee & Tea;Internet Cafes;Juice Bars & Smoothies;Food                                                                                                                                                  1\n",
       "Arts & Entertainment;Internet Cafes;Shopping;Video Game Stores;LAN Centers;Books;Mags;Music & Video;Food                                                                                                                                    1\n",
       "Food;Arcades;Internet Cafes;Arts & Entertainment;Cafes;Coffee & Tea;Restaurants                                                                                                                                                             1\n",
       "Recreation Centers;Internet Cafes;Food;Active Life                                                                                                                                                                                          1\n",
       "Internet Cafes;Coffee & Tea;Restaurants;Coffee & Tea Supplies;Breakfast & Brunch;Cafes;Food                                                                                                                                                 1\n",
       "Food;Internet Cafes;Coffee & Tea                                                                                                                                                                                                            1\n",
       "Name: categories, Length: 129, dtype: int64"
      ]
     },
     "execution_count": 218,
     "metadata": {},
     "output_type": "execute_result"
    }
   ],
   "source": [
    "# the counts of reviews containing the selected word according to their categories\n",
    "rel_reviews.categories[rel_reviews.text.str.contains(\" clean\")].value_counts()"
   ]
  },
  {
   "cell_type": "code",
   "execution_count": null,
   "metadata": {},
   "outputs": [],
   "source": []
  }
 ],
 "metadata": {
  "kernelspec": {
   "display_name": "Python 3",
   "language": "python",
   "name": "python3"
  },
  "language_info": {
   "codemirror_mode": {
    "name": "ipython",
    "version": 3
   },
   "file_extension": ".py",
   "mimetype": "text/x-python",
   "name": "python",
   "nbconvert_exporter": "python",
   "pygments_lexer": "ipython3",
   "version": "3.7.2"
  }
 },
 "nbformat": 4,
 "nbformat_minor": 2
}

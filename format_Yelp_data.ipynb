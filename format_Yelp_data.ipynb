{
 "cells": [
  {
   "cell_type": "code",
   "execution_count": 2,
   "metadata": {},
   "outputs": [],
   "source": [
    "import numpy as np\n",
    "import pandas as pd"
   ]
  },
  {
   "cell_type": "code",
   "execution_count": 72,
   "metadata": {},
   "outputs": [],
   "source": [
    "business = \"/Users/dharakyu/Downloads/yelp_business.csv\"\n",
    "business_df = pd.read_csv(business)"
   ]
  },
  {
   "cell_type": "code",
   "execution_count": 74,
   "metadata": {},
   "outputs": [],
   "source": [
    "review = \"/Users/dharakyu/Downloads/yelp_review.csv\"\n",
    "review_df = pd.read_csv(review)"
   ]
  },
  {
   "cell_type": "code",
   "execution_count": 76,
   "metadata": {},
   "outputs": [],
   "source": [
    "business_and_review_df = pd.merge(business_df, review_df, on='business_id', how='inner')"
   ]
  },
  {
   "cell_type": "code",
   "execution_count": 86,
   "metadata": {},
   "outputs": [],
   "source": [
    "# only get reviews of Shared Office Spaces, Libraries or Internet Cafe\n",
    "keep = ((business_and_review_df[\"categories\"].str.count(\"Shared Office Spaces\") > 0) | \n",
    "    (business_and_review_df[\"categories\"].str.count(\"Libraries\") > 0) | \n",
    "    (business_and_review_df[\"categories\"].str.count(\"Internet Cafe\") > 0))\n",
    "filtered = business_and_review_df[keep]"
   ]
  },
  {
   "cell_type": "code",
   "execution_count": 113,
   "metadata": {},
   "outputs": [],
   "source": [
    "# reset index, starting at 0\n",
    "filtered = filtered.reset_index()\n",
    "\n",
    "# save as .pkl\n",
    "# can access with pd.read_pickle(\"./Research/filtered_Yelp_reviews.pkl\")\n",
    "filtered.to_pickle(\"./Research/filtered_Yelp_reviews.pkl\")"
   ]
  },
  {
   "cell_type": "code",
   "execution_count": 125,
   "metadata": {},
   "outputs": [
    {
     "data": {
      "text/plain": [
       "'Beautiful place for an office. Modern, professional and friendly. Includes all the amenities printing\\\\/faxing and accessible kitchen for complimentary tea, coffee. etc. Cheryl is great, she is helpful and explains things well.'"
      ]
     },
     "execution_count": 125,
     "metadata": {},
     "output_type": "execute_result"
    }
   ],
   "source": [
    "# see a review\n",
    "filtered[\"text\"][28]"
   ]
  },
  {
   "cell_type": "code",
   "execution_count": 144,
   "metadata": {},
   "outputs": [
    {
     "data": {
      "text/plain": [
       "5107"
      ]
     },
     "execution_count": 144,
     "metadata": {},
     "output_type": "execute_result"
    }
   ],
   "source": [
    "# count occurences of a string in the reviews\n",
    "filtered[\"text\"].str.count(\"coffee\").sum()"
   ]
  }
 ],
 "metadata": {
  "kernelspec": {
   "display_name": "Python 2",
   "language": "python",
   "name": "python2"
  },
  "language_info": {
   "codemirror_mode": {
    "name": "ipython",
    "version": 2
   },
   "file_extension": ".py",
   "mimetype": "text/x-python",
   "name": "python",
   "nbconvert_exporter": "python",
   "pygments_lexer": "ipython2",
   "version": "2.7.16"
  }
 },
 "nbformat": 4,
 "nbformat_minor": 2
}

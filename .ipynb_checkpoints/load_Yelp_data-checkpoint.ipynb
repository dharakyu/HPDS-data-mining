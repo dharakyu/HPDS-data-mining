{
 "cells": [
  {
   "cell_type": "code",
   "execution_count": null,
   "metadata": {},
   "outputs": [],
   "source": [
    "'''\n",
    "This script is used to preprocess and filter the reviews in the dataset\n",
    "to prepare them for next steps. We allow reviews for business described as:\n",
    "'Shared Office Spaces', 'Libraries', 'Internet Cafe'\n",
    "'''"
   ]
  },
  {
   "cell_type": "code",
   "execution_count": 152,
   "metadata": {},
   "outputs": [],
   "source": [
    "import numpy as np\n",
    "import pandas as pd\n",
    "import string"
   ]
  },
  {
   "cell_type": "code",
   "execution_count": 72,
   "metadata": {},
   "outputs": [],
   "source": [
    "business = \"/Users/dharakyu/Downloads/yelp_business.csv\"\n",
    "business_df = pd.read_csv(business)"
   ]
  },
  {
   "cell_type": "code",
   "execution_count": 74,
   "metadata": {},
   "outputs": [],
   "source": [
    "review = \"/Users/dharakyu/Downloads/yelp_review.csv\"\n",
    "review_df = pd.read_csv(review)"
   ]
  },
  {
   "cell_type": "code",
   "execution_count": 76,
   "metadata": {},
   "outputs": [],
   "source": [
    "# combine both csv dataframes into one according to business_id\n",
    "business_and_review_df = pd.merge(business_df, review_df, on='business_id', how='inner')"
   ]
  },
  {
   "cell_type": "code",
   "execution_count": 175,
   "metadata": {},
   "outputs": [],
   "source": [
    "# only get reviews of Shared Office Spaces, Libraries or Internet Cafe\n",
    "keep = ((business_and_review_df[\"categories\"].str.count(\"Shared Office Spaces\") > 0) | \n",
    "    (business_and_review_df[\"categories\"].str.count(\"Libraries\") > 0) | \n",
    "    (business_and_review_df[\"categories\"].str.count(\"Internet Cafe\") > 0))\n",
    "filtered = business_and_review_df[keep]\n",
    "\n",
    "# reset index, starting at 0\n",
    "filtered = filtered.reset_index()\n",
    "\n",
    "# save as .pkl\n",
    "# can access with pd.read_pickle(\"./Research/filtered_Yelp_reviews.pkl\")\n",
    "filtered.to_pickle(\"./Research/filtered_Yelp_reviews.pkl\")"
   ]
  }
 ],
 "metadata": {
  "kernelspec": {
   "display_name": "Python 3",
   "language": "python",
   "name": "python3"
  },
  "language_info": {
   "codemirror_mode": {
    "name": "ipython",
    "version": 3
   },
   "file_extension": ".py",
   "mimetype": "text/x-python",
   "name": "python",
   "nbconvert_exporter": "python",
   "pygments_lexer": "ipython3",
   "version": "3.7.2"
  }
 },
 "nbformat": 4,
 "nbformat_minor": 2
}

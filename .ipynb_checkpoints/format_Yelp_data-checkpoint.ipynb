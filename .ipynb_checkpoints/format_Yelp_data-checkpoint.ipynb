{
 "cells": [
  {
   "cell_type": "code",
   "execution_count": 2,
   "metadata": {},
   "outputs": [],
   "source": [
    "import numpy as np\n",
    "import pandas as pd"
   ]
  },
  {
   "cell_type": "code",
   "execution_count": 72,
   "metadata": {},
   "outputs": [],
   "source": [
    "business = \"/Users/dharakyu/Downloads/yelp_business.csv\"\n",
    "business_df = pd.read_csv(business)"
   ]
  },
  {
   "cell_type": "code",
   "execution_count": 73,
   "metadata": {},
   "outputs": [
    {
     "name": "stdout",
     "output_type": "stream",
     "text": [
      "num. shared office spaces: 68\n",
      "num. libraries: 275\n",
      "num. internet cafes: 140\n",
      "num. reviews: 8818\n"
     ]
    }
   ],
   "source": [
    "print \"num. shared office spaces:\", df[\"categories\"].str.count(\"Shared Office Spaces\").sum()\n",
    "print \"num. libraries:\", df[\"categories\"].str.count(\"Libraries\").sum()\n",
    "print \"num. internet cafes:\", df[\"categories\"].str.count(\"Internet Cafe\").sum()"
   ]
  },
  {
   "cell_type": "code",
   "execution_count": 74,
   "metadata": {},
   "outputs": [],
   "source": [
    "review = \"/Users/dharakyu/Downloads/yelp_review.csv\"\n",
    "review_df = pd.read_csv(review)"
   ]
  },
  {
   "cell_type": "code",
   "execution_count": 76,
   "metadata": {},
   "outputs": [],
   "source": [
    "business_and_review_df = pd.merge(business_df, review_df, on='business_id', how='inner')"
   ]
  },
  {
   "cell_type": "code",
   "execution_count": 78,
   "metadata": {},
   "outputs": [
    {
     "data": {
      "text/plain": [
       "Index([u'business_id', u'name', u'neighborhood', u'address', u'city', u'state',\n",
       "       u'postal_code', u'latitude', u'longitude', u'stars_x', u'review_count',\n",
       "       u'is_open', u'categories', u'review_id', u'user_id', u'stars_y',\n",
       "       u'date', u'text', u'useful', u'funny', u'cool'],\n",
       "      dtype='object')"
      ]
     },
     "execution_count": 78,
     "metadata": {},
     "output_type": "execute_result"
    }
   ],
   "source": [
    "business_and_review_df.columns"
   ]
  },
  {
   "cell_type": "code",
   "execution_count": null,
   "metadata": {},
   "outputs": [],
   "source": []
  }
 ],
 "metadata": {
  "kernelspec": {
   "display_name": "Python 2",
   "language": "python",
   "name": "python2"
  },
  "language_info": {
   "codemirror_mode": {
    "name": "ipython",
    "version": 2
   },
   "file_extension": ".py",
   "mimetype": "text/x-python",
   "name": "python",
   "nbconvert_exporter": "python",
   "pygments_lexer": "ipython2",
   "version": "2.7.16"
  }
 },
 "nbformat": 4,
 "nbformat_minor": 2
}

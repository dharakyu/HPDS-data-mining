{
 "cells": [
  {
   "cell_type": "code",
   "execution_count": null,
   "metadata": {},
   "outputs": [],
   "source": [
    "'''\n",
    "This script is used to draw random samples from the dataset of specific\n",
    "sizes and tags to be used for manual coding by the researchers\n",
    "'''"
   ]
  },
  {
   "cell_type": "code",
   "execution_count": null,
   "metadata": {},
   "outputs": [],
   "source": [
    "import numpy as np\n",
    "import pandas as pd\n",
    "import random"
   ]
  },
  {
   "cell_type": "code",
   "execution_count": null,
   "metadata": {},
   "outputs": [],
   "source": [
    "all_reviews = pd.read_pickle(\"filtered_Yelp_reviews.pkl\")\n",
    "tagged_reviews = pd.read_pickle(\"feature_extracted_reviews.pkl\")"
   ]
  },
  {
   "cell_type": "code",
   "execution_count": null,
   "metadata": {},
   "outputs": [],
   "source": [
    "# 1. extract sample of 30 random reviews\n",
    "for idx in random.sample(range(len(all_reviews)), 30):\n",
    "    print all_reviews.text[idx]\n",
    "    print \"-----------------------------\""
   ]
  },
  {
   "cell_type": "code",
   "execution_count": null,
   "metadata": {},
   "outputs": [],
   "source": [
    "# 2. extract sample of 30 reviews with \"light\" tag\n",
    "light_idx = tagged_reviews.index[tagged_reviews.light == True]\n",
    "for idx in random.sample(light_idx, 30):\n",
    "    print all_reviews.text[idx]\n",
    "    print \"-----------------------------\""
   ]
  },
  {
   "cell_type": "code",
   "execution_count": null,
   "metadata": {},
   "outputs": [],
   "source": [
    "# 3. extract sample of 30 reviews with \"materials\" tag\n",
    "material_idx = tagged_reviews.index[tagged_reviews.materials == True]\n",
    "for idx in random.sample(material_idx, 30):\n",
    "    print all_reviews.text[idx]\n",
    "    print \"-----------------------------\""
   ]
  },
  {
   "cell_type": "code",
   "execution_count": null,
   "metadata": {},
   "outputs": [],
   "source": [
    "# 4. extract sample of 30 reviews with \"icons\" tag\n",
    "icons_idx = tagged_reviews.index[tagged_reviews.icons == True]\n",
    "for idx in random.sample(icons_idx, 30):\n",
    "    print \"review id:\", all_reviews.review_id[idx]\n",
    "    print all_reviews.text[idx]\n",
    "    print \"-----------------------------\""
   ]
  },
  {
   "cell_type": "code",
   "execution_count": null,
   "metadata": {},
   "outputs": [],
   "source": [
    "# 5. extract sample of 30 reviews with \"ambiance\" tag\n",
    "ambiance_idx = tagged_reviews.index[tagged_reviews.ambiance == True]\n",
    "for idx in random.sample(ambiance_idx, 30):\n",
    "    print \"review id:\", all_reviews.review_id[idx]\n",
    "    print all_reviews.text[idx]\n",
    "    print \"-----------------------------\""
   ]
  },
  {
   "cell_type": "code",
   "execution_count": null,
   "metadata": {},
   "outputs": [],
   "source": [
    "# 6. extract sample of 30 reviews with \"noise\" tag\n",
    "noise_idx = tagged_reviews.index[tagged_reviews.noise == True]\n",
    "for idx in random.sample(noise_idx, 30):\n",
    "    print \"review id:\", all_reviews.review_id[idx]\n",
    "    print all_reviews.text[idx]\n",
    "    print \"-----------------------------\""
   ]
  },
  {
   "cell_type": "code",
   "execution_count": null,
   "metadata": {},
   "outputs": [],
   "source": [
    "# 7. extract sample of 30 reviews with \"temp\" tag\n",
    "temp_idx = tagged_reviews.index[tagged_reviews.temp == True]\n",
    "for idx in random.sample(temp_idx, 30):\n",
    "    print \"review id:\", all_reviews.review_id[idx]\n",
    "    print all_reviews.text[idx]\n",
    "    print \"-----------------------------\""
   ]
  },
  {
   "cell_type": "code",
   "execution_count": null,
   "metadata": {},
   "outputs": [],
   "source": []
  }
 ],
 "metadata": {
  "kernelspec": {
   "display_name": "Python 3",
   "language": "python",
   "name": "python3"
  },
  "language_info": {
   "codemirror_mode": {
    "name": "ipython",
    "version": 3
   },
   "file_extension": ".py",
   "mimetype": "text/x-python",
   "name": "python",
   "nbconvert_exporter": "python",
   "pygments_lexer": "ipython3",
   "version": "3.7.2"
  }
 },
 "nbformat": 4,
 "nbformat_minor": 2
}
